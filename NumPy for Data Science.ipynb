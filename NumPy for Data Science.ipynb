{
 "cells": [
  {
   "cell_type": "markdown",
   "id": "35a47f80",
   "metadata": {},
   "source": [
    "# <center>NumPy Essentials: A Comprehensive Guide to NumPy<center>"
   ]
  },
  {
   "cell_type": "markdown",
   "id": "07096c78",
   "metadata": {},
   "source": [
    "NumPy, short for **Numerical Python**, is a Python library that adds support for large, multi-dimensional arrays and matrices, as well as a large collection of high-level mathematical functions to operate on these arrays. NumPy is one of the foundational libraries used in data science and machine learning, as it provides a powerful toolset for **data manipulation, analysis, and computation.**\n",
    "\n",
    "Arrays in NumPy are similar to lists in Python but are more efficient and powerful for numerical operations. Here are some key features of NumPy arrays:\n",
    "\n",
    "- **Homogeneous**: All elements in a NumPy array must have the same data type, which is specified when the array is created.\n",
    "- **Fixed-size**: The size of a NumPy array is fixed when it is created and cannot be changed.\n",
    "- **Multi-dimensional**: NumPy arrays can have any number of dimensions, from one to many."
   ]
  },
  {
   "cell_type": "markdown",
   "id": "bd9309da",
   "metadata": {},
   "source": [
    "## Applications of NumPy"
   ]
  },
  {
   "cell_type": "markdown",
   "id": "c5f268eb",
   "metadata": {},
   "source": [
    "- Mathematics (MATLAB replacement)\n",
    "- Plotting (Matplotlib)\n",
    "- Backend (Pandas, Connect 4, Digital Photography, Image processing)\n",
    "- Machine Learning"
   ]
  },
  {
   "cell_type": "markdown",
   "id": "0ffc5bf5",
   "metadata": {},
   "source": [
    "## Getting Started with NumPy"
   ]
  },
  {
   "cell_type": "markdown",
   "id": "f38fcc41",
   "metadata": {},
   "source": [
    "To use NumPy in your Python code, you first need to install it. You can do this using pip, the Python package manager, by running the following command:"
   ]
  },
  {
   "cell_type": "code",
   "execution_count": 56,
   "id": "e05b4dcb",
   "metadata": {},
   "outputs": [
    {
     "name": "stdout",
     "output_type": "stream",
     "text": [
      "Requirement already satisfied: numpy in c:\\users\\hp\\anaconda3\\lib\\site-packages (1.20.3)\n",
      "Note: you may need to restart the kernel to use updated packages.\n"
     ]
    }
   ],
   "source": [
    "pip install numpy"
   ]
  },
  {
   "cell_type": "markdown",
   "id": "7a7465cd",
   "metadata": {},
   "source": [
    "This statement creates an **alias “np”** for the NumPy library, which makes it easier to use in your code.\n",
    "\n",
    "Let’s look at some examples of how to use NumPy for data science tasks."
   ]
  },
  {
   "cell_type": "markdown",
   "id": "7d55b0a5",
   "metadata": {},
   "source": [
    "## Creating & Inspecting NumPy Array"
   ]
  },
  {
   "cell_type": "markdown",
   "id": "eea3ac65",
   "metadata": {},
   "source": [
    "You can create NumPy arrays using a variety of functions provided by the library. Here are a few examples:"
   ]
  },
  {
   "cell_type": "code",
   "execution_count": 57,
   "id": "d91aa6aa",
   "metadata": {},
   "outputs": [
    {
     "name": "stdout",
     "output_type": "stream",
     "text": [
      "[1 2 3]\n"
     ]
    }
   ],
   "source": [
    "#importing numpy\n",
    "import numpy as np \n",
    "\n",
    "a = np.array([1,2,3])\n",
    "print(a)"
   ]
  },
  {
   "cell_type": "code",
   "execution_count": 58,
   "id": "7d6e1f77",
   "metadata": {},
   "outputs": [
    {
     "name": "stdout",
     "output_type": "stream",
     "text": [
      "[[9. 8. 7.]\n",
      " [6. 5. 4.]]\n"
     ]
    }
   ],
   "source": [
    "b = np.array([[9.0,8.0,7.0],[6.0,5.0,4.0]])\n",
    "print(b)"
   ]
  },
  {
   "cell_type": "code",
   "execution_count": 59,
   "id": "53f2aaf3",
   "metadata": {},
   "outputs": [
    {
     "name": "stdout",
     "output_type": "stream",
     "text": [
      "1\n",
      "2\n"
     ]
    }
   ],
   "source": [
    "# Get Dimension of a array\n",
    "print(a.ndim)\n",
    "print(b.ndim)"
   ]
  },
  {
   "cell_type": "code",
   "execution_count": 60,
   "id": "6c85ed21",
   "metadata": {},
   "outputs": [
    {
     "name": "stdout",
     "output_type": "stream",
     "text": [
      "(3,)\n",
      "(2, 3)\n"
     ]
    }
   ],
   "source": [
    "# Get Shape\n",
    "print(a.shape)\n",
    "print(b.shape)"
   ]
  },
  {
   "cell_type": "code",
   "execution_count": 61,
   "id": "a634e565",
   "metadata": {},
   "outputs": [
    {
     "data": {
      "text/plain": [
       "dtype('int32')"
      ]
     },
     "execution_count": 61,
     "metadata": {},
     "output_type": "execute_result"
    }
   ],
   "source": [
    "# Get Type\n",
    "a.dtype"
   ]
  },
  {
   "cell_type": "code",
   "execution_count": 62,
   "id": "5138b301",
   "metadata": {},
   "outputs": [
    {
     "name": "stdout",
     "output_type": "stream",
     "text": [
      "4\n"
     ]
    }
   ],
   "source": [
    "# Get Size\n",
    "print(a.itemsize)"
   ]
  },
  {
   "cell_type": "code",
   "execution_count": 63,
   "id": "fd1d6cb6",
   "metadata": {},
   "outputs": [
    {
     "name": "stdout",
     "output_type": "stream",
     "text": [
      "12\n"
     ]
    }
   ],
   "source": [
    "# Get total size\n",
    "print(a.nbytes)"
   ]
  },
  {
   "cell_type": "code",
   "execution_count": 64,
   "id": "6ae7a884",
   "metadata": {},
   "outputs": [
    {
     "data": {
      "text/plain": [
       "3"
      ]
     },
     "execution_count": 64,
     "metadata": {},
     "output_type": "execute_result"
    }
   ],
   "source": [
    "# Get the lenght of array\n",
    "len(a)"
   ]
  },
  {
   "cell_type": "code",
   "execution_count": 65,
   "id": "c5122be7",
   "metadata": {},
   "outputs": [
    {
     "data": {
      "text/plain": [
       "'int32'"
      ]
     },
     "execution_count": 65,
     "metadata": {},
     "output_type": "execute_result"
    }
   ],
   "source": [
    "# Get the name of the datatype\n",
    "a.dtype.name"
   ]
  },
  {
   "cell_type": "markdown",
   "id": "e89214db",
   "metadata": {},
   "source": [
    "## Initial Placeholders"
   ]
  },
  {
   "cell_type": "markdown",
   "id": "92f033f4",
   "metadata": {},
   "source": [
    "1. Create a 3x5 array filled with zeros.\n",
    "2. Create a 2x2 array filled with ones.\n",
    "3. Create an array of values from 10 to 25 (excluding 25) with a step of 5.\n",
    "4. Create an array of 9 evenly spaced values between 0 and 2.\n",
    "5. Create a 2x2 array filled with the value 7.\n",
    "6. Create a 2x2 identity matrix.\n",
    "7. Create a 2x2 array with random values between 0 and 1.\n",
    "8. Create a 3x2 array without initializing its entries."
   ]
  },
  {
   "cell_type": "code",
   "execution_count": 66,
   "id": "baa9d89d",
   "metadata": {},
   "outputs": [
    {
     "data": {
      "text/plain": [
       "array([[0., 0., 0., 0., 0.],\n",
       "       [0., 0., 0., 0., 0.],\n",
       "       [0., 0., 0., 0., 0.]])"
      ]
     },
     "execution_count": 66,
     "metadata": {},
     "output_type": "execute_result"
    }
   ],
   "source": [
    "np.zeros((3,5))"
   ]
  },
  {
   "cell_type": "code",
   "execution_count": 67,
   "id": "d03c2ec6",
   "metadata": {},
   "outputs": [
    {
     "data": {
      "text/plain": [
       "array([[1., 1.],\n",
       "       [1., 1.]])"
      ]
     },
     "execution_count": 67,
     "metadata": {},
     "output_type": "execute_result"
    }
   ],
   "source": [
    "np.ones((2,2))"
   ]
  },
  {
   "cell_type": "code",
   "execution_count": 68,
   "id": "c6e5e093",
   "metadata": {},
   "outputs": [
    {
     "data": {
      "text/plain": [
       "array([10, 15, 20])"
      ]
     },
     "execution_count": 68,
     "metadata": {},
     "output_type": "execute_result"
    }
   ],
   "source": [
    "np.arange(10,25,5)"
   ]
  },
  {
   "cell_type": "code",
   "execution_count": 69,
   "id": "6ad7be3c",
   "metadata": {},
   "outputs": [
    {
     "data": {
      "text/plain": [
       "array([0.  , 0.25, 0.5 , 0.75, 1.  , 1.25, 1.5 , 1.75, 2.  ])"
      ]
     },
     "execution_count": 69,
     "metadata": {},
     "output_type": "execute_result"
    }
   ],
   "source": [
    "np.linspace(0,2,9)"
   ]
  },
  {
   "cell_type": "code",
   "execution_count": 70,
   "id": "90f397ac",
   "metadata": {},
   "outputs": [
    {
     "data": {
      "text/plain": [
       "array([[7, 7],\n",
       "       [7, 7]])"
      ]
     },
     "execution_count": 70,
     "metadata": {},
     "output_type": "execute_result"
    }
   ],
   "source": [
    "np.full((2,2),7)"
   ]
  },
  {
   "cell_type": "code",
   "execution_count": 71,
   "id": "eb276ba8",
   "metadata": {},
   "outputs": [
    {
     "data": {
      "text/plain": [
       "array([[1., 0.],\n",
       "       [0., 1.]])"
      ]
     },
     "execution_count": 71,
     "metadata": {},
     "output_type": "execute_result"
    }
   ],
   "source": [
    "np.eye(2)"
   ]
  },
  {
   "cell_type": "code",
   "execution_count": 72,
   "id": "61d32fbd",
   "metadata": {},
   "outputs": [
    {
     "data": {
      "text/plain": [
       "array([[0.23187272, 0.7701438 ],\n",
       "       [0.14454148, 0.37634624]])"
      ]
     },
     "execution_count": 72,
     "metadata": {},
     "output_type": "execute_result"
    }
   ],
   "source": [
    "np.random.random((2,2))"
   ]
  },
  {
   "cell_type": "code",
   "execution_count": 73,
   "id": "9a350cb8",
   "metadata": {},
   "outputs": [
    {
     "data": {
      "text/plain": [
       "array([[9., 8.],\n",
       "       [7., 6.],\n",
       "       [5., 4.]])"
      ]
     },
     "execution_count": 73,
     "metadata": {},
     "output_type": "execute_result"
    }
   ],
   "source": [
    "np.empty((3,2))"
   ]
  },
  {
   "cell_type": "markdown",
   "id": "750880d5",
   "metadata": {},
   "source": [
    "## Data Types"
   ]
  },
  {
   "cell_type": "markdown",
   "id": "05100567",
   "metadata": {},
   "source": [
    "- np.int32:            Signed 32-bit integer type \n",
    "- np.uint64:            Unsigned 64-bit integer type \n",
    "- np.float64:           Double-precision floating point \n",
    "- np.complex128:        Complex number represented by two 64-bit floats \n",
    "- np.bool:              Boolean type storing True and False values \n",
    "- np.object:            Python object type \n",
    "- np.string_:           Fixed-length string type \n",
    "- np.unicode_:          Fixed-length unicode type "
   ]
  },
  {
   "cell_type": "markdown",
   "id": "f6831773",
   "metadata": {},
   "source": [
    "## Subsetting, Slicing & Indexing"
   ]
  },
  {
   "cell_type": "code",
   "execution_count": 74,
   "id": "f3fced26",
   "metadata": {},
   "outputs": [
    {
     "name": "stdout",
     "output_type": "stream",
     "text": [
      "[[ 1  2  3  4  5  6  7]\n",
      " [ 8  9 10 11 12 13 14]]\n"
     ]
    }
   ],
   "source": [
    "a = np.array([[1,2,3,4,5,6,7],[8,9,10,11,12,13,14]])\n",
    "print(a) "
   ]
  },
  {
   "cell_type": "code",
   "execution_count": 75,
   "id": "9f1c1f6e",
   "metadata": {},
   "outputs": [
    {
     "data": {
      "text/plain": [
       "13"
      ]
     },
     "execution_count": 75,
     "metadata": {},
     "output_type": "execute_result"
    }
   ],
   "source": [
    "# Get a specific element [r, c]\n",
    "a[1, 5]"
   ]
  },
  {
   "cell_type": "code",
   "execution_count": 76,
   "id": "1f6a85d3",
   "metadata": {},
   "outputs": [
    {
     "data": {
      "text/plain": [
       "array([1, 2, 3, 4, 5, 6, 7])"
      ]
     },
     "execution_count": 76,
     "metadata": {},
     "output_type": "execute_result"
    }
   ],
   "source": [
    "# Get a specific row \n",
    "a[0, :]"
   ]
  },
  {
   "cell_type": "code",
   "execution_count": 77,
   "id": "01900b3b",
   "metadata": {},
   "outputs": [
    {
     "data": {
      "text/plain": [
       "array([2, 4, 6])"
      ]
     },
     "execution_count": 77,
     "metadata": {},
     "output_type": "execute_result"
    }
   ],
   "source": [
    "# Getting a little more fancy [startindex:endindex:stepsize]\n",
    "a[0, 1:-1:2]"
   ]
  },
  {
   "cell_type": "code",
   "execution_count": 78,
   "id": "729e647f",
   "metadata": {},
   "outputs": [
    {
     "name": "stdout",
     "output_type": "stream",
     "text": [
      "[[ 1  2  1  4  5  6  7]\n",
      " [ 8  9  2 11 12 20 14]]\n"
     ]
    }
   ],
   "source": [
    "#updating an elemn\n",
    "a[1,5] = 20\n",
    "a[:,2] = [1,2]\n",
    "print(a)"
   ]
  },
  {
   "cell_type": "markdown",
   "id": "80f601af",
   "metadata": {},
   "source": [
    "## Array Mathematics"
   ]
  },
  {
   "cell_type": "code",
   "execution_count": 79,
   "id": "0ece078b",
   "metadata": {},
   "outputs": [],
   "source": [
    "a = np.array([1, 2, 3])\n",
    "b = np.array([4, 5, 6])"
   ]
  },
  {
   "cell_type": "code",
   "execution_count": 80,
   "id": "fbc9ad9f",
   "metadata": {},
   "outputs": [
    {
     "data": {
      "text/plain": [
       "array([0.        , 0.69314718, 1.09861229])"
      ]
     },
     "execution_count": 80,
     "metadata": {},
     "output_type": "execute_result"
    }
   ],
   "source": [
    "np.add(a, b)            # Output: array([5, 7, 9])\n",
    "np.subtract(a, b)       # Output: array([-3, -3, -3])\n",
    "np.multiply(a, b)       # Output: array([4, 10, 18])\n",
    "np.divide(a, b)         # Output: array([0.25, 0.4 , 0.5 ])\n",
    "np.power(a, b)          # Output: array([  1,  32, 729])\n",
    "np.sqrt(a)              # Output: array([1.        , 1.41421356, 1.73205081])\n",
    "np.exp(a)            # Output: array([ 2.71828183,  7.3890561 , 20.08553692])\n",
    "np.sin(a)            # Output: array([0.84147098, 0.90929743, 0.14112001])\n",
    "np.cos(a)            # Output: array([ 0.54030231, -0.41614684, -0.9899925 ])\n",
    "np.log(a)            # Output: array([0.        , 0.69314718, 1.09861229])\n",
    "\n",
    "#Note: you are also allowed to use mathematical symbols directly like +, -, * etc.\n"
   ]
  },
  {
   "cell_type": "markdown",
   "id": "3e64ac2a",
   "metadata": {},
   "source": [
    " ## Linear Algebra"
   ]
  },
  {
   "cell_type": "code",
   "execution_count": 81,
   "id": "5cc9be22",
   "metadata": {},
   "outputs": [
    {
     "name": "stdout",
     "output_type": "stream",
     "text": [
      "[[1. 1. 1.]\n",
      " [1. 1. 1.]]\n",
      "[[2 2]\n",
      " [2 2]\n",
      " [2 2]]\n"
     ]
    },
    {
     "data": {
      "text/plain": [
       "array([[6., 6.],\n",
       "       [6., 6.]])"
      ]
     },
     "execution_count": 81,
     "metadata": {},
     "output_type": "execute_result"
    }
   ],
   "source": [
    "a = np.ones((2,3))\n",
    "print(a)\n",
    "\n",
    "b = np.full((3,2), 2)\n",
    "print(b)\n",
    "\n",
    "# For Matrix Multiplction\n",
    "np.matmul(a,b)"
   ]
  },
  {
   "cell_type": "code",
   "execution_count": 82,
   "id": "e8c8c0af",
   "metadata": {},
   "outputs": [
    {
     "data": {
      "text/plain": [
       "1.0"
      ]
     },
     "execution_count": 82,
     "metadata": {},
     "output_type": "execute_result"
    }
   ],
   "source": [
    "# Find the determinant\n",
    "c = np.identity(3)\n",
    "np.linalg.det(c)   #output: 1"
   ]
  },
  {
   "cell_type": "markdown",
   "id": "cd73c1f6",
   "metadata": {},
   "source": [
    "**Reference docs for Linear Algebra operations:**\n",
    "\n",
    "https://docs.scipy.org/doc/numpy/reference/routines.linalg.html\n",
    "\n",
    "- Determinant\n",
    "- Trace\n",
    "- Singular Vector Decomposition\n",
    "- Eigenvalues\n",
    "- Matrix Norm\n",
    "- Inverse etc."
   ]
  },
  {
   "cell_type": "markdown",
   "id": "9b48f5d3",
   "metadata": {},
   "source": [
    "## Statistics"
   ]
  },
  {
   "cell_type": "raw",
   "id": "03415cfb",
   "metadata": {},
   "source": [
    "np.mean(arr)           Compute the arithmetic mean along a specified axis.\n",
    "np.median(arr)         Compute the median along a specified axis.\n",
    "np.std(arr)            Compute the standard deviation along a specified axis.\n",
    "np.var(arr)            Compute the variance along a specified axis.\n",
    "np.max(arr)            Find the maximum value along a specified axis.\n",
    "np.min(arr)            Find the minimum value along a specified axis.\n",
    "np.sum(arr)            Compute the sum of all elements along a specified axis.\n",
    "np.prod(arr)           Compute the product of all elements along a specified axis.\n",
    "np.percentile(arr, q)  Compute the q-th percentile of the data along a specified axis.\n",
    "np.corrcoef(arr)       Compute the correlation matrix of a 2D array.\n",
    "np.cov(arr)            Estimate a covariance matrix of a 2D array."
   ]
  },
  {
   "cell_type": "markdown",
   "id": "6f90ac4f",
   "metadata": {},
   "source": [
    "## Reorganizing Arrays"
   ]
  },
  {
   "cell_type": "code",
   "execution_count": 83,
   "id": "979cbbda",
   "metadata": {},
   "outputs": [
    {
     "name": "stdout",
     "output_type": "stream",
     "text": [
      "[[1 2 3 4]\n",
      " [5 6 7 8]]\n",
      "[[1 2]\n",
      " [3 4]\n",
      " [5 6]\n",
      " [7 8]]\n"
     ]
    }
   ],
   "source": [
    "before = np.array([[1,2,3,4],[5,6,7,8]])\n",
    "print(before)\n",
    "\n",
    "after = before.reshape((4, 2))\n",
    "print(after)       "
   ]
  },
  {
   "cell_type": "code",
   "execution_count": 84,
   "id": "3f62e455",
   "metadata": {},
   "outputs": [
    {
     "data": {
      "text/plain": [
       "array([[1, 2, 3, 4],\n",
       "       [5, 6, 7, 8],\n",
       "       [1, 2, 3, 4],\n",
       "       [5, 6, 7, 8]])"
      ]
     },
     "execution_count": 84,
     "metadata": {},
     "output_type": "execute_result"
    }
   ],
   "source": [
    "# Vertically stacking vectors\n",
    "v1 = np.array([1,2,3,4])\n",
    "v2 = np.array([5,6,7,8])\n",
    "\n",
    "np.vstack([v1,v2,v1,v2])"
   ]
  },
  {
   "cell_type": "code",
   "execution_count": 85,
   "id": "e3bf3253",
   "metadata": {},
   "outputs": [
    {
     "data": {
      "text/plain": [
       "array([[1., 1., 1., 1., 0., 0.],\n",
       "       [1., 1., 1., 1., 0., 0.]])"
      ]
     },
     "execution_count": 85,
     "metadata": {},
     "output_type": "execute_result"
    }
   ],
   "source": [
    "# Horizontal  stack\n",
    "h1 = np.ones((2,4))\n",
    "h2 = np.zeros((2,2))\n",
    "\n",
    "np.hstack((h1,h2))"
   ]
  },
  {
   "cell_type": "markdown",
   "id": "c64e6e93",
   "metadata": {},
   "source": [
    "## Array Manipulation"
   ]
  },
  {
   "cell_type": "raw",
   "id": "865a8074",
   "metadata": {},
   "source": [
    "# To take the transpose of an array\n",
    "np.transpose(a)"
   ]
  },
  {
   "cell_type": "raw",
   "id": "1bd7b02b",
   "metadata": {},
   "source": [
    "# Adding/removing elements\n",
    "np.append(h,g)\n",
    "np.insert(a, 1, 5)\n",
    "np.delete(a, [1])"
   ]
  },
  {
   "cell_type": "raw",
   "id": "11b83a0c",
   "metadata": {},
   "source": [
    "# Combining arrays\n",
    "np.concatenate(a,b)"
   ]
  },
  {
   "cell_type": "raw",
   "id": "866ff005",
   "metadata": {},
   "source": [
    "# Sorting arrays\n",
    "a.sort()"
   ]
  },
  {
   "cell_type": "raw",
   "id": "9639b390",
   "metadata": {},
   "source": [
    "# Copying arrays\n",
    "np.copy(a)"
   ]
  },
  {
   "cell_type": "markdown",
   "id": "edb1bc2e",
   "metadata": {},
   "source": [
    "## Important Note"
   ]
  },
  {
   "cell_type": "markdown",
   "id": "e47e1c26",
   "metadata": {},
   "source": [
    "I’m working on **#100daysofMLCode**, where I am starting with the beginner level, I’ll post the weekly content or more in a week in a form of a crux. If you’re a beginner and want to enhance your knowledge of Data science along with practice implementation, we can get connected through LinkedIn, Medium, and GitHub here."
   ]
  },
  {
   "cell_type": "markdown",
   "id": "d678091a",
   "metadata": {},
   "source": [
    "# LinkedIn"
   ]
  },
  {
   "cell_type": "markdown",
   "id": "d517ab31",
   "metadata": {},
   "source": [
    "Here is my LinkedIn profile in case you want to connect with me. I’ll be happy to be connected with you. <br>\n",
    "Lets Connected: https://www.linkedin.com/in/sania-mohiu-ud-din-277047193 <br>\n",
    "GitHub: https://github.com/SaniaGMD"
   ]
  }
 ],
 "metadata": {
  "kernelspec": {
   "display_name": "Python 3 (ipykernel)",
   "language": "python",
   "name": "python3"
  },
  "language_info": {
   "codemirror_mode": {
    "name": "ipython",
    "version": 3
   },
   "file_extension": ".py",
   "mimetype": "text/x-python",
   "name": "python",
   "nbconvert_exporter": "python",
   "pygments_lexer": "ipython3",
   "version": "3.9.7"
  }
 },
 "nbformat": 4,
 "nbformat_minor": 5
}
